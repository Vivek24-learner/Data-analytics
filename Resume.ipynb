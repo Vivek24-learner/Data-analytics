{
  "nbformat": 4,
  "nbformat_minor": 0,
  "metadata": {
    "colab": {
      "provenance": [],
      "authorship_tag": "ABX9TyO/fWXy36DzFgzui7CdvysI",
      "include_colab_link": true
    },
    "kernelspec": {
      "name": "python3",
      "display_name": "Python 3"
    },
    "language_info": {
      "name": "python"
    }
  },
  "cells": [
    {
      "cell_type": "markdown",
      "metadata": {
        "id": "view-in-github",
        "colab_type": "text"
      },
      "source": [
        "<a href=\"https://colab.research.google.com/github/Vivek24-learner/Data-analytics/blob/main/Resume.ipynb\" target=\"_parent\"><img src=\"https://colab.research.google.com/assets/colab-badge.svg\" alt=\"Open In Colab\"/></a>"
      ]
    },
    {
      "cell_type": "code",
      "execution_count": 1,
      "metadata": {
        "id": "jY02-iaFZIcr"
      },
      "outputs": [],
      "source": [
        "import pandas as pd\n",
        "import matplotlib.pyplot as plt"
      ]
    },
    {
      "cell_type": "code",
      "source": [
        "df=pd.read_excel(\"/content/BIODATAWORK.xlsx\")"
      ],
      "metadata": {
        "id": "AR_u-AS5ZNop"
      },
      "execution_count": 2,
      "outputs": []
    },
    {
      "cell_type": "code",
      "source": [
        "df.head()"
      ],
      "metadata": {
        "colab": {
          "base_uri": "https://localhost:8080/",
          "height": 206
        },
        "id": "-H88Xy_nZ9GQ",
        "outputId": "f8908836-d035-4942-aea2-4c97da3e70a6"
      },
      "execution_count": 3,
      "outputs": [
        {
          "output_type": "execute_result",
          "data": {
            "text/plain": [
              "                                              RESUME  \\\n",
              "0  Abhishek Bhatt Mobile: 8080796083 ~ Email: abh...   \n",
              "1  ABHISHEK GHIAMobile: +91 8879484526 ~ E-mail: ...   \n",
              "2  Anima Biswas603/A, Om Shivam Residency, Plot...   \n",
              "3  Abhishek Jairaj Dubey 58, Goa Mansion, Goa Str...   \n",
              "4       PROFILE SUMMARY  Dynamic, result oriented...   \n",
              "\n",
              "                                       PROFILE NAME  \n",
              "0  Area Sales Manager Experiential Marketing Expert  \n",
              "1                                               NaN  \n",
              "2                                            TYPIST  \n",
              "3                                            LAWYER  \n",
              "4             CHARTERD ACCOUNTANT/COMPANY SECRETARY  "
            ],
            "text/html": [
              "\n",
              "  <div id=\"df-da28ecfe-ebfe-4b09-ac33-f446f10062e8\">\n",
              "    <div class=\"colab-df-container\">\n",
              "      <div>\n",
              "<style scoped>\n",
              "    .dataframe tbody tr th:only-of-type {\n",
              "        vertical-align: middle;\n",
              "    }\n",
              "\n",
              "    .dataframe tbody tr th {\n",
              "        vertical-align: top;\n",
              "    }\n",
              "\n",
              "    .dataframe thead th {\n",
              "        text-align: right;\n",
              "    }\n",
              "</style>\n",
              "<table border=\"1\" class=\"dataframe\">\n",
              "  <thead>\n",
              "    <tr style=\"text-align: right;\">\n",
              "      <th></th>\n",
              "      <th>RESUME</th>\n",
              "      <th>PROFILE NAME</th>\n",
              "    </tr>\n",
              "  </thead>\n",
              "  <tbody>\n",
              "    <tr>\n",
              "      <th>0</th>\n",
              "      <td>Abhishek Bhatt Mobile: 8080796083 ~ Email: abh...</td>\n",
              "      <td>Area Sales Manager Experiential Marketing Expert</td>\n",
              "    </tr>\n",
              "    <tr>\n",
              "      <th>1</th>\n",
              "      <td>ABHISHEK GHIAMobile: +91 8879484526 ~ E-mail: ...</td>\n",
              "      <td>NaN</td>\n",
              "    </tr>\n",
              "    <tr>\n",
              "      <th>2</th>\n",
              "      <td>Anima Biswas603/A, Om Shivam Residency, Plot...</td>\n",
              "      <td>TYPIST</td>\n",
              "    </tr>\n",
              "    <tr>\n",
              "      <th>3</th>\n",
              "      <td>Abhishek Jairaj Dubey 58, Goa Mansion, Goa Str...</td>\n",
              "      <td>LAWYER</td>\n",
              "    </tr>\n",
              "    <tr>\n",
              "      <th>4</th>\n",
              "      <td>PROFILE SUMMARY  Dynamic, result oriented...</td>\n",
              "      <td>CHARTERD ACCOUNTANT/COMPANY SECRETARY</td>\n",
              "    </tr>\n",
              "  </tbody>\n",
              "</table>\n",
              "</div>\n",
              "      <button class=\"colab-df-convert\" onclick=\"convertToInteractive('df-da28ecfe-ebfe-4b09-ac33-f446f10062e8')\"\n",
              "              title=\"Convert this dataframe to an interactive table.\"\n",
              "              style=\"display:none;\">\n",
              "        \n",
              "  <svg xmlns=\"http://www.w3.org/2000/svg\" height=\"24px\"viewBox=\"0 0 24 24\"\n",
              "       width=\"24px\">\n",
              "    <path d=\"M0 0h24v24H0V0z\" fill=\"none\"/>\n",
              "    <path d=\"M18.56 5.44l.94 2.06.94-2.06 2.06-.94-2.06-.94-.94-2.06-.94 2.06-2.06.94zm-11 1L8.5 8.5l.94-2.06 2.06-.94-2.06-.94L8.5 2.5l-.94 2.06-2.06.94zm10 10l.94 2.06.94-2.06 2.06-.94-2.06-.94-.94-2.06-.94 2.06-2.06.94z\"/><path d=\"M17.41 7.96l-1.37-1.37c-.4-.4-.92-.59-1.43-.59-.52 0-1.04.2-1.43.59L10.3 9.45l-7.72 7.72c-.78.78-.78 2.05 0 2.83L4 21.41c.39.39.9.59 1.41.59.51 0 1.02-.2 1.41-.59l7.78-7.78 2.81-2.81c.8-.78.8-2.07 0-2.86zM5.41 20L4 18.59l7.72-7.72 1.47 1.35L5.41 20z\"/>\n",
              "  </svg>\n",
              "      </button>\n",
              "      \n",
              "  <style>\n",
              "    .colab-df-container {\n",
              "      display:flex;\n",
              "      flex-wrap:wrap;\n",
              "      gap: 12px;\n",
              "    }\n",
              "\n",
              "    .colab-df-convert {\n",
              "      background-color: #E8F0FE;\n",
              "      border: none;\n",
              "      border-radius: 50%;\n",
              "      cursor: pointer;\n",
              "      display: none;\n",
              "      fill: #1967D2;\n",
              "      height: 32px;\n",
              "      padding: 0 0 0 0;\n",
              "      width: 32px;\n",
              "    }\n",
              "\n",
              "    .colab-df-convert:hover {\n",
              "      background-color: #E2EBFA;\n",
              "      box-shadow: 0px 1px 2px rgba(60, 64, 67, 0.3), 0px 1px 3px 1px rgba(60, 64, 67, 0.15);\n",
              "      fill: #174EA6;\n",
              "    }\n",
              "\n",
              "    [theme=dark] .colab-df-convert {\n",
              "      background-color: #3B4455;\n",
              "      fill: #D2E3FC;\n",
              "    }\n",
              "\n",
              "    [theme=dark] .colab-df-convert:hover {\n",
              "      background-color: #434B5C;\n",
              "      box-shadow: 0px 1px 3px 1px rgba(0, 0, 0, 0.15);\n",
              "      filter: drop-shadow(0px 1px 2px rgba(0, 0, 0, 0.3));\n",
              "      fill: #FFFFFF;\n",
              "    }\n",
              "  </style>\n",
              "\n",
              "      <script>\n",
              "        const buttonEl =\n",
              "          document.querySelector('#df-da28ecfe-ebfe-4b09-ac33-f446f10062e8 button.colab-df-convert');\n",
              "        buttonEl.style.display =\n",
              "          google.colab.kernel.accessAllowed ? 'block' : 'none';\n",
              "\n",
              "        async function convertToInteractive(key) {\n",
              "          const element = document.querySelector('#df-da28ecfe-ebfe-4b09-ac33-f446f10062e8');\n",
              "          const dataTable =\n",
              "            await google.colab.kernel.invokeFunction('convertToInteractive',\n",
              "                                                     [key], {});\n",
              "          if (!dataTable) return;\n",
              "\n",
              "          const docLinkHtml = 'Like what you see? Visit the ' +\n",
              "            '<a target=\"_blank\" href=https://colab.research.google.com/notebooks/data_table.ipynb>data table notebook</a>'\n",
              "            + ' to learn more about interactive tables.';\n",
              "          element.innerHTML = '';\n",
              "          dataTable['output_type'] = 'display_data';\n",
              "          await google.colab.output.renderOutput(dataTable, element);\n",
              "          const docLink = document.createElement('div');\n",
              "          docLink.innerHTML = docLinkHtml;\n",
              "          element.appendChild(docLink);\n",
              "        }\n",
              "      </script>\n",
              "    </div>\n",
              "  </div>\n",
              "  "
            ]
          },
          "metadata": {},
          "execution_count": 3
        }
      ]
    },
    {
      "cell_type": "code",
      "source": [
        "df.tail()"
      ],
      "metadata": {
        "colab": {
          "base_uri": "https://localhost:8080/",
          "height": 206
        },
        "id": "LpxFmX9saCTh",
        "outputId": "de751f29-5799-4bd7-e3e1-d64f3d16a22e"
      },
      "execution_count": 4,
      "outputs": [
        {
          "output_type": "execute_result",
          "data": {
            "text/plain": [
              "                                               RESUME       PROFILE NAME\n",
              "53    Kinshuk Kulshrestha Business Analyst  Person...   Business Analyst\n",
              "54  MEHUL KARIA  Contact: +91- 9892582761  E-Mail:...  Assistant Manager\n",
              "55   Narendra Ramagya Sharma IT -Manager – IT infr...    IT PROFESSIONAL\n",
              "56  Resume  SIMMI MISHRA A/204, KUSSUM APT, KASTUR...            Auditor\n",
              "57  91 9326865499 aasif.a.shaikh279@gmail.com    A...  Financial Analyst"
            ],
            "text/html": [
              "\n",
              "  <div id=\"df-3d358dd9-c770-4a3a-a276-f5e8eaf153d9\">\n",
              "    <div class=\"colab-df-container\">\n",
              "      <div>\n",
              "<style scoped>\n",
              "    .dataframe tbody tr th:only-of-type {\n",
              "        vertical-align: middle;\n",
              "    }\n",
              "\n",
              "    .dataframe tbody tr th {\n",
              "        vertical-align: top;\n",
              "    }\n",
              "\n",
              "    .dataframe thead th {\n",
              "        text-align: right;\n",
              "    }\n",
              "</style>\n",
              "<table border=\"1\" class=\"dataframe\">\n",
              "  <thead>\n",
              "    <tr style=\"text-align: right;\">\n",
              "      <th></th>\n",
              "      <th>RESUME</th>\n",
              "      <th>PROFILE NAME</th>\n",
              "    </tr>\n",
              "  </thead>\n",
              "  <tbody>\n",
              "    <tr>\n",
              "      <th>53</th>\n",
              "      <td>Kinshuk Kulshrestha Business Analyst  Person...</td>\n",
              "      <td>Business Analyst</td>\n",
              "    </tr>\n",
              "    <tr>\n",
              "      <th>54</th>\n",
              "      <td>MEHUL KARIA  Contact: +91- 9892582761  E-Mail:...</td>\n",
              "      <td>Assistant Manager</td>\n",
              "    </tr>\n",
              "    <tr>\n",
              "      <th>55</th>\n",
              "      <td>Narendra Ramagya Sharma IT -Manager – IT infr...</td>\n",
              "      <td>IT PROFESSIONAL</td>\n",
              "    </tr>\n",
              "    <tr>\n",
              "      <th>56</th>\n",
              "      <td>Resume  SIMMI MISHRA A/204, KUSSUM APT, KASTUR...</td>\n",
              "      <td>Auditor</td>\n",
              "    </tr>\n",
              "    <tr>\n",
              "      <th>57</th>\n",
              "      <td>91 9326865499 aasif.a.shaikh279@gmail.com    A...</td>\n",
              "      <td>Financial Analyst</td>\n",
              "    </tr>\n",
              "  </tbody>\n",
              "</table>\n",
              "</div>\n",
              "      <button class=\"colab-df-convert\" onclick=\"convertToInteractive('df-3d358dd9-c770-4a3a-a276-f5e8eaf153d9')\"\n",
              "              title=\"Convert this dataframe to an interactive table.\"\n",
              "              style=\"display:none;\">\n",
              "        \n",
              "  <svg xmlns=\"http://www.w3.org/2000/svg\" height=\"24px\"viewBox=\"0 0 24 24\"\n",
              "       width=\"24px\">\n",
              "    <path d=\"M0 0h24v24H0V0z\" fill=\"none\"/>\n",
              "    <path d=\"M18.56 5.44l.94 2.06.94-2.06 2.06-.94-2.06-.94-.94-2.06-.94 2.06-2.06.94zm-11 1L8.5 8.5l.94-2.06 2.06-.94-2.06-.94L8.5 2.5l-.94 2.06-2.06.94zm10 10l.94 2.06.94-2.06 2.06-.94-2.06-.94-.94-2.06-.94 2.06-2.06.94z\"/><path d=\"M17.41 7.96l-1.37-1.37c-.4-.4-.92-.59-1.43-.59-.52 0-1.04.2-1.43.59L10.3 9.45l-7.72 7.72c-.78.78-.78 2.05 0 2.83L4 21.41c.39.39.9.59 1.41.59.51 0 1.02-.2 1.41-.59l7.78-7.78 2.81-2.81c.8-.78.8-2.07 0-2.86zM5.41 20L4 18.59l7.72-7.72 1.47 1.35L5.41 20z\"/>\n",
              "  </svg>\n",
              "      </button>\n",
              "      \n",
              "  <style>\n",
              "    .colab-df-container {\n",
              "      display:flex;\n",
              "      flex-wrap:wrap;\n",
              "      gap: 12px;\n",
              "    }\n",
              "\n",
              "    .colab-df-convert {\n",
              "      background-color: #E8F0FE;\n",
              "      border: none;\n",
              "      border-radius: 50%;\n",
              "      cursor: pointer;\n",
              "      display: none;\n",
              "      fill: #1967D2;\n",
              "      height: 32px;\n",
              "      padding: 0 0 0 0;\n",
              "      width: 32px;\n",
              "    }\n",
              "\n",
              "    .colab-df-convert:hover {\n",
              "      background-color: #E2EBFA;\n",
              "      box-shadow: 0px 1px 2px rgba(60, 64, 67, 0.3), 0px 1px 3px 1px rgba(60, 64, 67, 0.15);\n",
              "      fill: #174EA6;\n",
              "    }\n",
              "\n",
              "    [theme=dark] .colab-df-convert {\n",
              "      background-color: #3B4455;\n",
              "      fill: #D2E3FC;\n",
              "    }\n",
              "\n",
              "    [theme=dark] .colab-df-convert:hover {\n",
              "      background-color: #434B5C;\n",
              "      box-shadow: 0px 1px 3px 1px rgba(0, 0, 0, 0.15);\n",
              "      filter: drop-shadow(0px 1px 2px rgba(0, 0, 0, 0.3));\n",
              "      fill: #FFFFFF;\n",
              "    }\n",
              "  </style>\n",
              "\n",
              "      <script>\n",
              "        const buttonEl =\n",
              "          document.querySelector('#df-3d358dd9-c770-4a3a-a276-f5e8eaf153d9 button.colab-df-convert');\n",
              "        buttonEl.style.display =\n",
              "          google.colab.kernel.accessAllowed ? 'block' : 'none';\n",
              "\n",
              "        async function convertToInteractive(key) {\n",
              "          const element = document.querySelector('#df-3d358dd9-c770-4a3a-a276-f5e8eaf153d9');\n",
              "          const dataTable =\n",
              "            await google.colab.kernel.invokeFunction('convertToInteractive',\n",
              "                                                     [key], {});\n",
              "          if (!dataTable) return;\n",
              "\n",
              "          const docLinkHtml = 'Like what you see? Visit the ' +\n",
              "            '<a target=\"_blank\" href=https://colab.research.google.com/notebooks/data_table.ipynb>data table notebook</a>'\n",
              "            + ' to learn more about interactive tables.';\n",
              "          element.innerHTML = '';\n",
              "          dataTable['output_type'] = 'display_data';\n",
              "          await google.colab.output.renderOutput(dataTable, element);\n",
              "          const docLink = document.createElement('div');\n",
              "          docLink.innerHTML = docLinkHtml;\n",
              "          element.appendChild(docLink);\n",
              "        }\n",
              "      </script>\n",
              "    </div>\n",
              "  </div>\n",
              "  "
            ]
          },
          "metadata": {},
          "execution_count": 4
        }
      ]
    },
    {
      "cell_type": "code",
      "source": [
        "pd.set_option('max_colwidth', 800)\n",
        "df.tail()\n"
      ],
      "metadata": {
        "colab": {
          "base_uri": "https://localhost:8080/",
          "height": 754
        },
        "id": "zZytFAjhaGle",
        "outputId": "bbd4ee58-a848-4b80-f37d-690ca5eb1ee4"
      },
      "execution_count": 5,
      "outputs": [
        {
          "output_type": "execute_result",
          "data": {
            "text/plain": [
              "                                                                                                                                                                                                                                                                                                                                                                                                                                                                                                                                                                                                                                                                                                                                                                                                                             RESUME  \\\n",
              "53    Kinshuk Kulshrestha Business Analyst  Personal Info  Address 205 Pacifica-B, Casa Rio, Palava City, Kalyan-Shilphata Road, Dombivli East, Thane 421204.  Phone                               9927418651 9892727283 E-mail kulshresthakinshuk@gmail.com  Date of birth 14-09-1993  Hard Skills  R Tableau Domain Knowledge (LOS, LMS) SQL JIRA MS Office Data Analysis  Soft Skills  Team Handling Communication Creative Thinking Problem Solving Decision making Critical Thinking Quick Learner Looking for an opportunity in Business Analysis where I can highlight my abilities to conduct research, review, analyze and present sound recommendations and courses of action for the purpose of improving the company’s current level of performance. Profile Summary 4+  years  of  experience  in  Business  Analys...   \n",
              "54  MEHUL KARIA  Contact: +91- 9892582761  E-Mail: Mehul.Karia25@gmail.com   M I D   L E V E L   P R O F E S S I O N A L  O P E R A T I O N   M A N A G E R | P R O J E C T   M A N A G E M E N T | - Targeting assignments in Project Management / Team Management/ Internal Audit with an organisation of high reputation Location Preference: Mumbai    CORE COMPETENCIES  Project Management Team Building & Leadership Internal Audit  Risk Assessment Risk Management Quality Management System Reporting & Documentation Client-Vendor Relationship Management  Regulation/Compliance Audit Team Engagement  PROFILE SUMMARY     Offering  a  career  of  over  9  years  chronicled  by  well-earned  success  in  Team Management, Project Management, Audit and Process Management   Currently working with Ocwen Fi...   \n",
              "55   Narendra Ramagya Sharma IT -Manager – IT infrastructure & Networking Security   MBA  -  IT  Professional  having  proven  leadership  qualities  over  15  years  of Impressive  success  in  IT  Network  Management,  Cloud  Computing,  & Administrative roles.    Contact Details   Mail: sharma.naren@gmail.com Phone: +91-9820893664  Certifications & Training   AWS- #P0L6B1V2MFB1139S (Certified Solution Architect)   Microsoft Azure    Vmware VCP 6.7   Citrix 7.6    ITIL    #GR750459137NS   CCNA #407644167804DKVL   MCSA certified #2011   2  Yrs  Software  Diploma from Aptech Computers. Education    MBA in IT from IBMS    Graduate  from  Mumbai University B.A Key Skills  Switching and Routing Creation of VLAN  AWS Cloud Management Vmware ESXi 6.7 hypervisor Vmotion & Clustering Vm...   \n",
              "56  Resume  SIMMI MISHRA A/204, KUSSUM APT, KASTURI PARK,                                    email: simmimishra28@gmail.com                                         NAVGHAR ROAD,BHAYANDAR (EAST).                                  Mobile No: 9029327351/9320004205 Mumbai -401105.                                                                                                      Objective: Seeking a responsible opportunity with an organization that fully utilize my skills and provides global work exposure, and to utilize my expertise in Information Security Management System.  Graduation: Bachelor of Com. From Thakur College of Science and Commerce.    Post-Graduation: MBA (Information Technology, First semester) from Mumbai Institute of Management Research.  Certifications: ISO 27001 LA   ISO...   \n",
              "57  91 9326865499 aasif.a.shaikh279@gmail.com    Aasif Shaikh   Skilled  Financial  Analyst  capable  of  identifying  &  analyzing  financial trends and formulating effective successful financial plans. Proficient in conducting research  &  analysis  developing  financial  reports  and  coordinating  statistical project,  specializes  in  the  development  and  implementation  of  statistical  trend analysis through financial models.  E M P L O Y M E N T    13th Aug 2018    ANALYST    Till date            – Citco shared services   1.  Verifying the Valuation Models received from client for non-listed companies. 2.  Liaising with Valuation broker like Duff & Phelps, FTI consulting Etc. to verify the valuation & what method they used to bring the intrinsic value. 3.  Delivering the monthly ...   \n",
              "\n",
              "         PROFILE NAME  \n",
              "53   Business Analyst  \n",
              "54  Assistant Manager  \n",
              "55    IT PROFESSIONAL  \n",
              "56            Auditor  \n",
              "57  Financial Analyst  "
            ],
            "text/html": [
              "\n",
              "  <div id=\"df-2267aa1b-e288-41c0-90c3-76fea5642f46\">\n",
              "    <div class=\"colab-df-container\">\n",
              "      <div>\n",
              "<style scoped>\n",
              "    .dataframe tbody tr th:only-of-type {\n",
              "        vertical-align: middle;\n",
              "    }\n",
              "\n",
              "    .dataframe tbody tr th {\n",
              "        vertical-align: top;\n",
              "    }\n",
              "\n",
              "    .dataframe thead th {\n",
              "        text-align: right;\n",
              "    }\n",
              "</style>\n",
              "<table border=\"1\" class=\"dataframe\">\n",
              "  <thead>\n",
              "    <tr style=\"text-align: right;\">\n",
              "      <th></th>\n",
              "      <th>RESUME</th>\n",
              "      <th>PROFILE NAME</th>\n",
              "    </tr>\n",
              "  </thead>\n",
              "  <tbody>\n",
              "    <tr>\n",
              "      <th>53</th>\n",
              "      <td>Kinshuk Kulshrestha Business Analyst  Personal Info  Address 205 Pacifica-B, Casa Rio, Palava City, Kalyan-Shilphata Road, Dombivli East, Thane 421204.  Phone                               9927418651 9892727283 E-mail kulshresthakinshuk@gmail.com  Date of birth 14-09-1993  Hard Skills  R Tableau Domain Knowledge (LOS, LMS) SQL JIRA MS Office Data Analysis  Soft Skills  Team Handling Communication Creative Thinking Problem Solving Decision making Critical Thinking Quick Learner Looking for an opportunity in Business Analysis where I can highlight my abilities to conduct research, review, analyze and present sound recommendations and courses of action for the purpose of improving the company’s current level of performance. Profile Summary 4+  years  of  experience  in  Business  Analys...</td>\n",
              "      <td>Business Analyst</td>\n",
              "    </tr>\n",
              "    <tr>\n",
              "      <th>54</th>\n",
              "      <td>MEHUL KARIA  Contact: +91- 9892582761  E-Mail: Mehul.Karia25@gmail.com   M I D   L E V E L   P R O F E S S I O N A L  O P E R A T I O N   M A N A G E R | P R O J E C T   M A N A G E M E N T | - Targeting assignments in Project Management / Team Management/ Internal Audit with an organisation of high reputation Location Preference: Mumbai    CORE COMPETENCIES  Project Management Team Building &amp; Leadership Internal Audit  Risk Assessment Risk Management Quality Management System Reporting &amp; Documentation Client-Vendor Relationship Management  Regulation/Compliance Audit Team Engagement  PROFILE SUMMARY     Offering  a  career  of  over  9  years  chronicled  by  well-earned  success  in  Team Management, Project Management, Audit and Process Management   Currently working with Ocwen Fi...</td>\n",
              "      <td>Assistant Manager</td>\n",
              "    </tr>\n",
              "    <tr>\n",
              "      <th>55</th>\n",
              "      <td>Narendra Ramagya Sharma IT -Manager – IT infrastructure &amp; Networking Security   MBA  -  IT  Professional  having  proven  leadership  qualities  over  15  years  of Impressive  success  in  IT  Network  Management,  Cloud  Computing,  &amp; Administrative roles.    Contact Details   Mail: sharma.naren@gmail.com Phone: +91-9820893664  Certifications &amp; Training   AWS- #P0L6B1V2MFB1139S (Certified Solution Architect)   Microsoft Azure    Vmware VCP 6.7   Citrix 7.6    ITIL    #GR750459137NS   CCNA #407644167804DKVL   MCSA certified #2011   2  Yrs  Software  Diploma from Aptech Computers. Education    MBA in IT from IBMS    Graduate  from  Mumbai University B.A Key Skills  Switching and Routing Creation of VLAN  AWS Cloud Management Vmware ESXi 6.7 hypervisor Vmotion &amp; Clustering Vm...</td>\n",
              "      <td>IT PROFESSIONAL</td>\n",
              "    </tr>\n",
              "    <tr>\n",
              "      <th>56</th>\n",
              "      <td>Resume  SIMMI MISHRA A/204, KUSSUM APT, KASTURI PARK,                                    email: simmimishra28@gmail.com                                         NAVGHAR ROAD,BHAYANDAR (EAST).                                  Mobile No: 9029327351/9320004205 Mumbai -401105.                                                                                                      Objective: Seeking a responsible opportunity with an organization that fully utilize my skills and provides global work exposure, and to utilize my expertise in Information Security Management System.  Graduation: Bachelor of Com. From Thakur College of Science and Commerce.    Post-Graduation: MBA (Information Technology, First semester) from Mumbai Institute of Management Research.  Certifications: ISO 27001 LA   ISO...</td>\n",
              "      <td>Auditor</td>\n",
              "    </tr>\n",
              "    <tr>\n",
              "      <th>57</th>\n",
              "      <td>91 9326865499 aasif.a.shaikh279@gmail.com    Aasif Shaikh   Skilled  Financial  Analyst  capable  of  identifying  &amp;  analyzing  financial trends and formulating effective successful financial plans. Proficient in conducting research  &amp;  analysis  developing  financial  reports  and  coordinating  statistical project,  specializes  in  the  development  and  implementation  of  statistical  trend analysis through financial models.  E M P L O Y M E N T    13th Aug 2018    ANALYST    Till date            – Citco shared services   1.  Verifying the Valuation Models received from client for non-listed companies. 2.  Liaising with Valuation broker like Duff &amp; Phelps, FTI consulting Etc. to verify the valuation &amp; what method they used to bring the intrinsic value. 3.  Delivering the monthly ...</td>\n",
              "      <td>Financial Analyst</td>\n",
              "    </tr>\n",
              "  </tbody>\n",
              "</table>\n",
              "</div>\n",
              "      <button class=\"colab-df-convert\" onclick=\"convertToInteractive('df-2267aa1b-e288-41c0-90c3-76fea5642f46')\"\n",
              "              title=\"Convert this dataframe to an interactive table.\"\n",
              "              style=\"display:none;\">\n",
              "        \n",
              "  <svg xmlns=\"http://www.w3.org/2000/svg\" height=\"24px\"viewBox=\"0 0 24 24\"\n",
              "       width=\"24px\">\n",
              "    <path d=\"M0 0h24v24H0V0z\" fill=\"none\"/>\n",
              "    <path d=\"M18.56 5.44l.94 2.06.94-2.06 2.06-.94-2.06-.94-.94-2.06-.94 2.06-2.06.94zm-11 1L8.5 8.5l.94-2.06 2.06-.94-2.06-.94L8.5 2.5l-.94 2.06-2.06.94zm10 10l.94 2.06.94-2.06 2.06-.94-2.06-.94-.94-2.06-.94 2.06-2.06.94z\"/><path d=\"M17.41 7.96l-1.37-1.37c-.4-.4-.92-.59-1.43-.59-.52 0-1.04.2-1.43.59L10.3 9.45l-7.72 7.72c-.78.78-.78 2.05 0 2.83L4 21.41c.39.39.9.59 1.41.59.51 0 1.02-.2 1.41-.59l7.78-7.78 2.81-2.81c.8-.78.8-2.07 0-2.86zM5.41 20L4 18.59l7.72-7.72 1.47 1.35L5.41 20z\"/>\n",
              "  </svg>\n",
              "      </button>\n",
              "      \n",
              "  <style>\n",
              "    .colab-df-container {\n",
              "      display:flex;\n",
              "      flex-wrap:wrap;\n",
              "      gap: 12px;\n",
              "    }\n",
              "\n",
              "    .colab-df-convert {\n",
              "      background-color: #E8F0FE;\n",
              "      border: none;\n",
              "      border-radius: 50%;\n",
              "      cursor: pointer;\n",
              "      display: none;\n",
              "      fill: #1967D2;\n",
              "      height: 32px;\n",
              "      padding: 0 0 0 0;\n",
              "      width: 32px;\n",
              "    }\n",
              "\n",
              "    .colab-df-convert:hover {\n",
              "      background-color: #E2EBFA;\n",
              "      box-shadow: 0px 1px 2px rgba(60, 64, 67, 0.3), 0px 1px 3px 1px rgba(60, 64, 67, 0.15);\n",
              "      fill: #174EA6;\n",
              "    }\n",
              "\n",
              "    [theme=dark] .colab-df-convert {\n",
              "      background-color: #3B4455;\n",
              "      fill: #D2E3FC;\n",
              "    }\n",
              "\n",
              "    [theme=dark] .colab-df-convert:hover {\n",
              "      background-color: #434B5C;\n",
              "      box-shadow: 0px 1px 3px 1px rgba(0, 0, 0, 0.15);\n",
              "      filter: drop-shadow(0px 1px 2px rgba(0, 0, 0, 0.3));\n",
              "      fill: #FFFFFF;\n",
              "    }\n",
              "  </style>\n",
              "\n",
              "      <script>\n",
              "        const buttonEl =\n",
              "          document.querySelector('#df-2267aa1b-e288-41c0-90c3-76fea5642f46 button.colab-df-convert');\n",
              "        buttonEl.style.display =\n",
              "          google.colab.kernel.accessAllowed ? 'block' : 'none';\n",
              "\n",
              "        async function convertToInteractive(key) {\n",
              "          const element = document.querySelector('#df-2267aa1b-e288-41c0-90c3-76fea5642f46');\n",
              "          const dataTable =\n",
              "            await google.colab.kernel.invokeFunction('convertToInteractive',\n",
              "                                                     [key], {});\n",
              "          if (!dataTable) return;\n",
              "\n",
              "          const docLinkHtml = 'Like what you see? Visit the ' +\n",
              "            '<a target=\"_blank\" href=https://colab.research.google.com/notebooks/data_table.ipynb>data table notebook</a>'\n",
              "            + ' to learn more about interactive tables.';\n",
              "          element.innerHTML = '';\n",
              "          dataTable['output_type'] = 'display_data';\n",
              "          await google.colab.output.renderOutput(dataTable, element);\n",
              "          const docLink = document.createElement('div');\n",
              "          docLink.innerHTML = docLinkHtml;\n",
              "          element.appendChild(docLink);\n",
              "        }\n",
              "      </script>\n",
              "    </div>\n",
              "  </div>\n",
              "  "
            ]
          },
          "metadata": {},
          "execution_count": 5
        }
      ]
    },
    {
      "cell_type": "code",
      "source": [
        "df.columns"
      ],
      "metadata": {
        "colab": {
          "base_uri": "https://localhost:8080/"
        },
        "id": "YhmuuOJ9aRwc",
        "outputId": "06edd8fc-d383-4a7b-cd2f-b79755c6de34"
      },
      "execution_count": 6,
      "outputs": [
        {
          "output_type": "execute_result",
          "data": {
            "text/plain": [
              "Index(['RESUME', 'PROFILE NAME'], dtype='object')"
            ]
          },
          "metadata": {},
          "execution_count": 6
        }
      ]
    },
    {
      "cell_type": "code",
      "source": [
        "len(df['PROFILE NAME'].value_counts())"
      ],
      "metadata": {
        "colab": {
          "base_uri": "https://localhost:8080/"
        },
        "id": "TC4QU_XpaW1X",
        "outputId": "c0e9b287-5925-427a-80e5-ace1aab91b38"
      },
      "execution_count": 10,
      "outputs": [
        {
          "output_type": "execute_result",
          "data": {
            "text/plain": [
              "41"
            ]
          },
          "metadata": {},
          "execution_count": 10
        }
      ]
    },
    {
      "cell_type": "code",
      "source": [
        "df['PROFILE NAME'].value_counts()"
      ],
      "metadata": {
        "colab": {
          "base_uri": "https://localhost:8080/"
        },
        "id": "ITY_nINSaaTt",
        "outputId": "027206ce-52d6-4fc7-e2cd-01c12b46e019"
      },
      "execution_count": 13,
      "outputs": [
        {
          "output_type": "execute_result",
          "data": {
            "text/plain": [
              "IT PROFESSIONAL                                                  7\n",
              "WEB DEVELOPER                                                    5\n",
              "CONTENT WRITER                                                   2\n",
              "BUSINESS ADMINISTRATOR                                           2\n",
              "CONTENT SPECIALIST                                               2\n",
              "Business Analyst                                                 2\n",
              "Area Sales Manager Experiential Marketing Expert                 1\n",
              "Relationship Officer                                             1\n",
              "Software Engineer                                                1\n",
              "Executive Assistant cum Administration                           1\n",
              "IT-Manager                                                       1\n",
              "Senior Project Engineer                                          1\n",
              "System Engineer                                                  1\n",
              "Senior Consultant                                                1\n",
              "Project Manager                                                  1\n",
              "WEB CONSULTANT                                                   1\n",
              "IT Business Analyst                                              1\n",
              "Maintenance  Engineer                                            1\n",
              "Mechanical Maintenance Supervisor                                1\n",
              "System Engineer                                                  1\n",
              "Assistant Manager                                                1\n",
              "Auditor                                                          1\n",
              "C O M M U N I C A T I O N & M E D I A P R O F E S S I O N A L    1\n",
              "JOURNALIST                                                       1\n",
              "CONTENT WRITER FOR PHARMACEUTICAL INDUSTRIES                     1\n",
              "GENERAL ADMINISTRATOR                                            1\n",
              "LAWYER                                                           1\n",
              "CHARTERD ACCOUNTANT/COMPANY SECRETARY                            1\n",
              "BUSINESS DEVELOPMENT MANAGER                                     1\n",
              " Vulnerability Management and IT Security & Compliance           1\n",
              "BUSINESS ADMINISTRATOR / Tax Consultant                          1\n",
              "MARKETING PRACTITIONER                                           1\n",
              "CHARTERD ACCOUNTANT                                              1\n",
              "TYPIST                                                           1\n",
              "CRM Executive                                                    1\n",
              "Quality Analyst (Manual Testing                                  1\n",
              "WORDPRESS DEVELOPER                                              1\n",
              "WEB/SOFTWARE DEVELOPER                                           1\n",
              "SENIOR CONTENT MANAGER                                           1\n",
              "RESEARCH ANALYST                                                 1\n",
              "Financial Analyst                                                1\n",
              "Name: PROFILE NAME, dtype: int64"
            ]
          },
          "metadata": {},
          "execution_count": 13
        }
      ]
    },
    {
      "cell_type": "code",
      "source": [
        "df.info()"
      ],
      "metadata": {
        "colab": {
          "base_uri": "https://localhost:8080/"
        },
        "id": "b628t97za3x-",
        "outputId": "ab6015ee-c8d0-4761-a576-add36202f841"
      },
      "execution_count": 14,
      "outputs": [
        {
          "output_type": "stream",
          "name": "stdout",
          "text": [
            "<class 'pandas.core.frame.DataFrame'>\n",
            "RangeIndex: 58 entries, 0 to 57\n",
            "Data columns (total 2 columns):\n",
            " #   Column        Non-Null Count  Dtype \n",
            "---  ------        --------------  ----- \n",
            " 0   RESUME        58 non-null     object\n",
            " 1   PROFILE NAME  55 non-null     object\n",
            "dtypes: object(2)\n",
            "memory usage: 1.0+ KB\n"
          ]
        }
      ]
    },
    {
      "cell_type": "code",
      "source": [
        "import seaborn as sns\n",
        "plt.figure(figsize=(10,12))\n",
        "sns.countplot(y=\"PROFILE NAME\" , palette=\"Set3\", data=df, order = df['PROFILE NAME'].value_counts().index);\n"
      ],
      "metadata": {
        "colab": {
          "base_uri": "https://localhost:8080/",
          "height": 714
        },
        "id": "sq69IhvMbEI6",
        "outputId": "f5eb4ff7-07c5-45c2-cebe-8ddfc42c5afd"
      },
      "execution_count": 18,
      "outputs": [
        {
          "output_type": "display_data",
          "data": {
            "text/plain": [
              "<Figure size 720x864 with 1 Axes>"
            ],
            "image/png": "[encoded data removed]"
          },
          "metadata": {
            "needs_background": "light"
          }
        }
      ]
    },
    {
      "cell_type": "code",
      "source": [
        "df[\"RESUME\"][1]"
      ],
      "metadata": {
        "colab": {
          "base_uri": "https://localhost:8080/",
          "height": 174
        },
        "id": "d29iGBbibOPQ",
        "outputId": "3b9f272d-944f-42d1-bda6-edf8bd8dc1bc"
      },
      "execution_count": 20,
      "outputs": [
        {
          "output_type": "execute_result",
          "data": {
            "text/plain": [
              "\"ABHISHEK GHIAMobile: +91 8879484526 ~ E-mail: packtechss@gmail.com____________________________________________________________________________________________________________________________________________________A professional with wide range of experience in diverse industries with strong coordination, operations, officeadministration, communication and relation management skills with a passion for achieving high quality at work.Ability to excel in a team oriented environment that involves delivering solutions in order to add significant value tothe organization and its clients.Pursue career in Sales, Marketing, Operations & Customer Service to utilize my skill to the best of my knowledgeand contribute to the organizational and personal growth.Industries Exposure – Automation in Packaging, Real estate, Automobile, Artificial Intelligence, Hospitality, NBFCORGANISATIONAL CREDITENTIALS____________________________________________________________________________________________________________________________________________________1. Neo Growth Credit Pvt Ltd. 4/2018 – 7/2019Area Sales Manager /Assistant Manager Sales Coordinator (customer relations) :\\uf0b7 Maintaining relationship with corporate for financial gain and customer satisfaction Pan India (Metro Cash and Carry, MedleyMed, Pharma Rack, Wholesale Box)\\uf0b7 Arrange business meetings with prospective clients and channel partners. (DSA / RA relation, Inside sales and Direct sales)\\uf0b7 Communicate significant trends, rate changes and policies to assigned accounts.\\uf0b7 Strive for consultative sales to distinguish market presence by effectively probing and identifying needs and suggesting solutions tohelp customers.\\uf0b7 Timely and accurate sales reporting on pipeline - CRM management.\\uf0b7 Implement the standard operating procedures to improve the process & performance\\uf0b7 Pro-actively maintain regular contact with customers and to use detailed knowledge of customer’s work choices to offer relevantvalue added propositions\\uf0b7 Administrative support by implementing systems, procedures, and policies in support of compliance auditors2. Mezi Commerce Private Limited 1/ 2017 – 6/2017Experiential Marketing Expert: (Travel & Retail- Customer Service – Artificial Intelligence)\\uf0b7 Dealing with platinium members of American Express in USA & UK (HNI members – pilot run)\\uf0b7 Explore a range of products from different merchants to find exactly what the customer is looking for in travel and retail.\\uf0b7 Exhibit a great taste, strong sense of style and eye for details\\uf0b7 Act independently and demonstrate effective conflict resolution skills in developing recommendations and solutions to solvecomplex issues in an effort to anticipate executive needs.\\uf0b7 Achieve /exceed customer satisfaction targets and consistently achieve service level agreements.\\uf0b7 To navigate current and new systems and tools.\\uf0b7 Communicate directly with customers by phone, electronically3. Aadya Motor Car Company (I) Pvt. Ltd. – Audi Mumbai West 5/2012 – 3/2016Property Communications Manager / Senior Customer Relations Executive\\uf0b7 Evaluated changing factors frequently to achieve high customer satisfaction level.\\uf0b7 Communicated directly with customers by phone, electronically (DMS/ Skelta/ Elsa Pro/ Sales Force) or face to face.\\uf0b7 Managed and supervised a team of customer services representatives.\\uf0b7 Taking Care of the Customer Complaints and their queries by solving it.\\uf0b7 Meeting brokers, agents and property consultants for finding new properties & also for sale of other properties.\\uf0b7 Relation management/ documentation related to the Principal Company in Germany.\\uf0b7 Negotiating with vendors as per company requirements.\\uf0b7 Also assisting on follow ups with the administration work for a few projects as and when needed along with site visits (PorscheShowroom / Workshop- Benelli showroom – Audi Navi Mumbai- showroom/ workshop)\\uf0b7 Entertaining the foreign officials for interior/ vendor related works and HNI’s.\\uf0b7 Coordinating work for the legal department related to land agreements/ rentals , etc. as per the requirement.\\uf0b7 Implementing an effective legal compliance program. Proactively checking processes, practices and documentsCompleted projects / Achievements – Porsche Centre Mumbai (Certificate of Appreciation), Benelle bikes, Audi Service Centre - Turbhe\\n4.Umiya Builders & Developers 11/ 2009 – 6/2011Business Development Manager\\uf0b7 Meeting Brokers & Property Consultants to market the projects.\\uf0b7 Developing new business\\uf0b7 Coordinating with the marketing team for leads\\uf0b7 Visit sites as and when required\\uf0b7 Attending conferences, meetings, and industry events.\\uf0b7 To keep himself/herself abreast with the trends of the industry.\\uf0b7 Designing and implementing a strategic sales plan that expands company's customer base and ensure its strong presence.\\uf0b7 Performance monitoring of sales representatives.\\uf0b7 Regular Follow-up calls with leads and for revisits as well.5. Sixsigma Media Solutions – Div. of Parekhplast (I) Pvt. Ltd 2/2008 – 11/2009Key Account Manager\\uf0b7 Handling existing corporate clients, making new clients and accomplishing sales targets\\uf0b7 Identifying potential clients from all categories and bring them onboard for their brand promotions\\uf0b7 Maintain relations with all the clients and local agencies.\\uf0b7 Selling websites, Responsive websites, customized software’s, e- commerce portals.\\uf0b7 Explaining the concept of social media , Google ad words6. Ms. Packtech - Maillis Strong Strap Pvt. Ltd. into (MNC) automation & packagingDiv. of Parekhplast (I) Pvt. Ltd 4/2006 – 1/2008Dealership – Ms Packtech – Proprietor – joint as a sales manager\\uf0b7 Developing new business from the given data list\\uf0b7 Servicing Existing Clients and increasing business volumes\\uf0b7 Daily updating the reports and accounts as per the work completed.\\uf0b7 Customer service, trouble-shooting for projects / clients all over India\\uf0b7 Rates Negotiation with clients\\uf0b7 Contract Renewals for corporate\\uf0b7 Clientele - Bombay Dyeing, Reliance – all over India, Lavino Kapur Cottons/ S D Fine Chem , Jindal Polyfilms,etc.Achievement:  I have crossed my team target thrice and given double of my team target and hence opted to be a dealer for theorganization.7. Whispering Palms 26th April 2004 - 1st Feb 2006Proprietor – contract basis with Lokhandwala Builders – Aryan Hospitality Services\\uf0b7 Responsible for Restaurant Sales/ Banquet sales through Corporates/, Birthday & kitty Parties, small events & get together, etc.\\uf0b7 Responsible to maximise sales & achieve pre-determined target\\uf0b7 Rate negotiations with clients\\uf0b7 Relationship management and interaction with customers at senior levels to procure business from time to time for various par ties& events.\\uf0b7 Monitoring day to day operations for the club house\\uf0b7 Complete administration work along with staff maintained and payroll management.ACADEMIC CREDITENTIALS____________________________________________________________________________________________________________________________________________________\\uf076 Graduation - TY B’com – Mumbai University (2003) \\uf020\\uf076 HSC - Malini Kishor Sanghvi College of Commerce and Economics - Ritambhara Vishva Vidyapeeth (2000)\\uf076 ICSE - Jamnabai Narsee School  (1998)TRAININGS____________________________________________________________________________________________________________________________________________________\\uf076 Import & Export Course From Naresh Lakdawala.\\uf076 Public Speaking course – by Anhita Dastur\\uf076 SixSigma Black Belt –B Grade –MACOBIE (not practiced)\\nSKILLS_________________________________________________________________________________________________________________________________________________Computer operating systems: WindowsSoftware programs: live chat, email and Microsoft Office Suite, Internet savvyComputer hardware: Microphone and headphonesComputer skills: Typing and troubleshootingExperiential skills: product knowledge and customer psychologyComputer Basics – Excel & word/ Adequate knowledge of MS Office Proficient in DMS, Elsa Pro,Skelta, Sales forceHOBBIES____________________________________________________________________________________________________________________________________________________Travelling, Reading, Yoga, Storytelling, Music & PaintingPERSONAL DETAILS____________________________________________________________________________________________________________________________________________________Date of Birth : 10thFeb 1982Permanent Address : A 11 Priya Pushpakunj Society. Santacruz (East) Mumbai- 400055LinkedIn Profile : https://www.linkedin.com/in/abhishek-ghia-60536442/____________________________________________________________________________________________________________________________________________________An opportunity to be a part of your esteemed organisation, it’s my assurance to do my best tobenefit the company. ~ Thank you!\\n\""
            ],
            "application/vnd.google.colaboratory.intrinsic+json": {
              "type": "string"
            }
          },
          "metadata": {},
          "execution_count": 20
        }
      ]
    },
    {
      "cell_type": "code",
      "source": [
        "from string import punctuation\n",
        "print(punctuation)"
      ],
      "metadata": {
        "colab": {
          "base_uri": "https://localhost:8080/"
        },
        "id": "g_FqhBRGbdgb",
        "outputId": "f1a1f2d8-c8f5-4eac-c9c0-2179196083f5"
      },
      "execution_count": 21,
      "outputs": [
        {
          "output_type": "stream",
          "name": "stdout",
          "text": [
            "!\"#$%&'()*+,-./:;<=>?@[\\]^_`{|}~\n"
          ]
        }
      ]
    },
    {
      "cell_type": "code",
      "source": [
        "import re​\n",
        "def cleanResume(resumeText):\n",
        "  resumeText = re.sub('[%s]' % re.escape(\"\"\"!\"#$%&'()*+,-./:;<=>?@[\\]^_`{|}~\"\"\"), ' ', resumeText)  # remove punctuations\n",
        "  resumeText = re.sub(r'[^\\x00-\\x7f]',r' ', resumeText) # remove non-ascii characters\n",
        "  resumeText = re.sub('\\s+', ' ', resumeText)  # remove extra whitespace\n",
        "  resumeText = re.sub(r'[0-9]+', '', resumeText)  #remove numbers\n",
        "  return resumeText.lower()"
      ],
      "metadata": {
        "colab": {
          "base_uri": "https://localhost:8080/",
          "height": 130
        },
        "id": "WMUbAML0bqEF",
        "outputId": "03778d74-1537-4ddb-aeea-79ed53f0563c"
      },
      "execution_count": 25,
      "outputs": [
        {
          "output_type": "error",
          "ename": "SyntaxError",
          "evalue": "ignored",
          "traceback": [
            "\u001b[0;36m  File \u001b[0;32m\"<ipython-input-25-f9e8a5041962>\"\u001b[0;36m, line \u001b[0;32m1\u001b[0m\n\u001b[0;31m    import re​\u001b[0m\n\u001b[0m             ^\u001b[0m\n\u001b[0;31mSyntaxError\u001b[0m\u001b[0;31m:\u001b[0m invalid character in identifier\n"
          ]
        }
      ]
    },
    {
      "cell_type": "code",
      "source": [
        "import re"
      ],
      "metadata": {
        "id": "w58zZC4XbtxF"
      },
      "execution_count": 23,
      "outputs": []
    },
    {
      "cell_type": "code",
      "source": [
        "import nltk\n",
        "nltk.download('stopwords')\n",
        "import string\n",
        "from nltk.corpus import stopwords\n",
        "from nltk import word_tokenize\n",
        "len(stopwords.words('english'))"
      ],
      "metadata": {
        "colab": {
          "base_uri": "https://localhost:8080/"
        },
        "id": "7ssX3supcIDE",
        "outputId": "e21d9d49-078a-4cf0-e38f-61290c8c0a50"
      },
      "execution_count": 27,
      "outputs": [
        {
          "output_type": "stream",
          "name": "stderr",
          "text": [
            "[nltk_data] Downloading package stopwords to /root/nltk_data...\n",
            "[nltk_data]   Unzipping corpora/stopwords.zip.\n"
          ]
        },
        {
          "output_type": "execute_result",
          "data": {
            "text/plain": [
              "179"
            ]
          },
          "metadata": {},
          "execution_count": 27
        }
      ]
    },
    {
      "cell_type": "code",
      "source": [
        "ds_df = df[df.PROFILE NAME == 'Data Science']\n",
        "resumes=\"\"\n",
        "total_words = []\n",
        "for resume in ds_df[\"Cleaned Resume\"]:\n",
        "  resumes += resume\n",
        "  words = word_tokenize(resume)\n",
        "for word in words :\n",
        "  if word not in set(stopwords.words('english')) and word not in string.punctuation:\n",
        "        total_words.append(word)"
      ],
      "metadata": {
        "colab": {
          "base_uri": "https://localhost:8080/",
          "height": 130
        },
        "id": "P2pF1AiDb2YJ",
        "outputId": "8000acff-016f-4fb4-c8b1-fc774844e589"
      },
      "execution_count": 30,
      "outputs": [
        {
          "output_type": "error",
          "ename": "SyntaxError",
          "evalue": "ignored",
          "traceback": [
            "\u001b[0;36m  File \u001b[0;32m\"<ipython-input-30-b5845cac2803>\"\u001b[0;36m, line \u001b[0;32m1\u001b[0m\n\u001b[0;31m    ds_df = df[df.PROFILE NAME == 'Data Science']\u001b[0m\n\u001b[0m                             ^\u001b[0m\n\u001b[0;31mSyntaxError\u001b[0m\u001b[0;31m:\u001b[0m invalid syntax\n"
          ]
        }
      ]
    },
    {
      "cell_type": "code",
      "source": [],
      "metadata": {
        "id": "EvDehOH-cZ7p"
      },
      "execution_count": null,
      "outputs": []
    }
  ]
}